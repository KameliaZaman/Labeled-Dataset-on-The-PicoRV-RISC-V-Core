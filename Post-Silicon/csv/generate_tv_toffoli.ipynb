{
 "cells": [
  {
   "cell_type": "code",
   "execution_count": 4,
   "id": "129e50e5-3f32-4691-8613-5e395c44141b",
   "metadata": {},
   "outputs": [
    {
     "name": "stdout",
     "output_type": "stream",
     "text": [
      "Dataset written to 'tv_toffoli.csv'\n"
     ]
    }
   ],
   "source": [
    "import csv\n",
    "\n",
    "import random\n",
    "\n",
    "def random_32bit_hex():\n",
    "    return f\"{random.getrandbits(32):08x}\"\n",
    "\n",
    "def toffoli_gate_logic(a0, b0, c0, a1, b1, c1):\n",
    "    # Convert hex strings to integers\n",
    "    a0 = int(a0, 16)\n",
    "    b0 = int(b0, 16)\n",
    "    c0 = int(c0, 16)\n",
    "    a1 = int(a1, 16)\n",
    "    b1 = int(b1, 16)\n",
    "    c1 = int(c1, 16)\n",
    "\n",
    "    # RISC-V Toffoli gate logic simulation in Python\n",
    "\n",
    "    # Step 0: a0b0\n",
    "    tmp1 = a0 & b0\n",
    "\n",
    "    # Step 1: c0 + a0b0\n",
    "    r2 = c0 ^ tmp1\n",
    "\n",
    "    # Step 2-3: shift a0, b1\n",
    "    a0_shift = a0 << 2\n",
    "    b1_shift = b1 << 2\n",
    "\n",
    "    # Step 4: a0b1\n",
    "    tmp2 = a0_shift & b1_shift\n",
    "\n",
    "    # Step 8: c0 + a0b0 + a0b1\n",
    "    r2_shift = r2 << 2\n",
    "    r2 = (r2_shift ^ tmp2) >> 2\n",
    "\n",
    "    # Step 10: a1b1\n",
    "    tmp3 = a1 & b1\n",
    "\n",
    "    # Step 11: a1b1 + c1\n",
    "    r5 = c1 ^ tmp3\n",
    "\n",
    "    # Step 12-13: shift a1, b0\n",
    "    a1_shift = a1 << 2\n",
    "    b0_shift = b0 << 2\n",
    "\n",
    "    # Step 14: a1b0\n",
    "    tmp4 = a1_shift & b0_shift\n",
    "\n",
    "    # Step 18: c1 + a1b1 + a1b0\n",
    "    r5_shift = r5 << 2\n",
    "    r5 = (r5_shift ^ tmp4) >> 2\n",
    "\n",
    "    return f\"{r2:08x}\", f\"{r5:08x}\"\n",
    "\n",
    "def process_csv(num_vectors=5000, filename=\"tv_toffoli.csv\"):\n",
    "    with open(filename, mode=\"w\", newline=\"\") as outfile:\n",
    "        fieldnames = [\"a0\", \"b0\", \"c0\", \"a1\", \"b1\", \"c1\", \"x12\", \"x15\"]\n",
    "        writer = csv.DictWriter(outfile, fieldnames=fieldnames)\n",
    "        writer.writeheader()\n",
    "\n",
    "        for _ in range(num_vectors):\n",
    "            row = {\n",
    "                \"a0\": random_32bit_hex(),\n",
    "                \"b0\": random_32bit_hex(),\n",
    "                \"c0\": random_32bit_hex(),\n",
    "                \"a1\": random_32bit_hex(),\n",
    "                \"b1\": random_32bit_hex(),\n",
    "                \"c1\": random_32bit_hex(),\n",
    "            }\n",
    "            x12, x15 = toffoli_gate_logic(row[\"a0\"], row[\"b0\"], row[\"c0\"], row[\"a1\"], row[\"b1\"], row[\"c1\"])\n",
    "            row[\"x12\"] = x12\n",
    "            row[\"x15\"] = x15\n",
    "            writer.writerow(row)\n",
    "\n",
    "if __name__ == \"__main__\":\n",
    "    process_csv()\n",
    "    print(\"Dataset written to 'tv_toffoli.csv'\")"
   ]
  },
  {
   "cell_type": "code",
   "execution_count": null,
   "id": "6e0a84f5-96c2-48a5-9407-47474dc1dc50",
   "metadata": {},
   "outputs": [],
   "source": []
  }
 ],
 "metadata": {
  "kernelspec": {
   "display_name": "Python 3 (ipykernel)",
   "language": "python",
   "name": "python3"
  },
  "language_info": {
   "codemirror_mode": {
    "name": "ipython",
    "version": 3
   },
   "file_extension": ".py",
   "mimetype": "text/x-python",
   "name": "python",
   "nbconvert_exporter": "python",
   "pygments_lexer": "ipython3",
   "version": "3.12.2"
  }
 },
 "nbformat": 4,
 "nbformat_minor": 5
}
