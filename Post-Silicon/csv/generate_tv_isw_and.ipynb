{
 "cells": [
  {
   "cell_type": "code",
   "execution_count": 1,
   "id": "0bf2bf18-a0e3-48ea-b00d-aa974520036b",
   "metadata": {},
   "outputs": [
    {
     "name": "stdout",
     "output_type": "stream",
     "text": [
      "[+] Generated 5000 ISW AND test vectors in 'isw_and_vectors.csv'\n"
     ]
    }
   ],
   "source": [
    "import csv\n",
    "import random\n",
    "\n",
    "def isw_and(a0, a1, b0, b1, r):\n",
    "    # Compute intermediate terms\n",
    "    t1 = a0 & b0\n",
    "    t2 = a0 & b1\n",
    "    t2 ^= r\n",
    "\n",
    "    c0 = (a1 & b0) ^ r ^ t1\n",
    "    c1 = (a1 & b1) ^ t2\n",
    "\n",
    "    return c0, c1, c0 ^ c1  # c0, c1, and recombined result\n",
    "\n",
    "def generate_vectors(filename=\"isw_and_vectors.csv\", num_vectors=100, fixed_r=None):\n",
    "    with open(filename, mode=\"w\", newline=\"\") as csvfile:\n",
    "        fieldnames = [\"a0\", \"a1\", \"b0\", \"b1\", \"r\", \"c0\", \"c1\", \"expected_and\"]\n",
    "        writer = csv.DictWriter(csvfile, fieldnames=fieldnames)\n",
    "        writer.writeheader()\n",
    "\n",
    "        for _ in range(num_vectors):\n",
    "            a0 = random.getrandbits(32)\n",
    "            a1 = random.getrandbits(32)\n",
    "            b0 = random.getrandbits(32)\n",
    "            b1 = random.getrandbits(32)\n",
    "            r = fixed_r if fixed_r is not None else random.getrandbits(32)\n",
    "\n",
    "            c0, c1, result = isw_and(a0, a1, b0, b1, r)\n",
    "\n",
    "            writer.writerow({\n",
    "                \"a0\": f\"{a0:08x}\",\n",
    "                \"a1\": f\"{a1:08x}\",\n",
    "                \"b0\": f\"{b0:08x}\",\n",
    "                \"b1\": f\"{b1:08x}\",\n",
    "                \"r\":  f\"{r:08x}\",\n",
    "                \"c0\": f\"{c0:08x}\",\n",
    "                \"c1\": f\"{c1:08x}\",\n",
    "                \"expected_and\": f\"{result:08x}\"\n",
    "            })\n",
    "\n",
    "    print(f\"[+] Generated {num_vectors} ISW AND test vectors in '{filename}'\")\n",
    "\n",
    "if __name__ == \"__main__\":\n",
    "    generate_vectors(num_vectors=5000, fixed_r=0x55)\n"
   ]
  },
  {
   "cell_type": "code",
   "execution_count": null,
   "id": "9f2a60df-f0c7-4939-b2ee-b318a76f5dac",
   "metadata": {},
   "outputs": [],
   "source": []
  }
 ],
 "metadata": {
  "kernelspec": {
   "display_name": "Python 3 (ipykernel)",
   "language": "python",
   "name": "python3"
  },
  "language_info": {
   "codemirror_mode": {
    "name": "ipython",
    "version": 3
   },
   "file_extension": ".py",
   "mimetype": "text/x-python",
   "name": "python",
   "nbconvert_exporter": "python",
   "pygments_lexer": "ipython3",
   "version": "3.12.2"
  }
 },
 "nbformat": 4,
 "nbformat_minor": 5
}
