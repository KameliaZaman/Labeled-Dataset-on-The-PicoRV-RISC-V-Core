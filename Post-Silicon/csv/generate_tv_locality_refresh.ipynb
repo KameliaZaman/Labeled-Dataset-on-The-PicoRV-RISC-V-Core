{
 "cells": [
  {
   "cell_type": "code",
   "execution_count": 2,
   "id": "f7a688e7-c286-4891-88b1-989513d67208",
   "metadata": {},
   "outputs": [
    {
     "name": "stdout",
     "output_type": "stream",
     "text": [
      "[+] Generated 5000 locality refresh test vectors in 'locality_refresh_vectors.csv'\n"
     ]
    }
   ],
   "source": [
    "import csv\n",
    "import random\n",
    "\n",
    "def locality_refresh(a0, a1, r):\n",
    "    # Apply the locality refresh transformation\n",
    "    c0 = a0 ^ r\n",
    "    c1 = a1 ^ r\n",
    "    recombined = c0 ^ c1\n",
    "    return c0, c1, recombined\n",
    "\n",
    "def generate_vectors(filename=\"locality_refresh_vectors.csv\", num_vectors=5000, fixed_r=None):\n",
    "    with open(filename, mode=\"w\", newline=\"\") as csvfile:\n",
    "        fieldnames = [\"a0\", \"a1\", \"r\", \"c0\", \"c1\", \"expected_value\"]\n",
    "        writer = csv.DictWriter(csvfile, fieldnames=fieldnames)\n",
    "        writer.writeheader()\n",
    "\n",
    "        for _ in range(num_vectors):\n",
    "            a0 = random.getrandbits(32)\n",
    "            a1 = random.getrandbits(32)\n",
    "            r = fixed_r if fixed_r is not None else random.getrandbits(32)\n",
    "\n",
    "            c0, c1, expected = locality_refresh(a0, a1, r)\n",
    "\n",
    "            writer.writerow({\n",
    "                \"a0\": f\"{a0:08x}\",\n",
    "                \"a1\": f\"{a1:08x}\",\n",
    "                \"r\":  f\"{r:08x}\",\n",
    "                \"c0\": f\"{c0:08x}\",\n",
    "                \"c1\": f\"{c1:08x}\",\n",
    "                \"expected_value\": f\"{expected:08x}\"\n",
    "            })\n",
    "\n",
    "    print(f\"[+] Generated {num_vectors} locality refresh test vectors in '{filename}'\")\n",
    "\n",
    "if __name__ == \"__main__\":\n",
    "    generate_vectors()"
   ]
  },
  {
   "cell_type": "code",
   "execution_count": null,
   "id": "0f1bb8fb-6c15-489d-b904-c0b64b7486c8",
   "metadata": {},
   "outputs": [],
   "source": []
  }
 ],
 "metadata": {
  "kernelspec": {
   "display_name": "Python 3 (ipykernel)",
   "language": "python",
   "name": "python3"
  },
  "language_info": {
   "codemirror_mode": {
    "name": "ipython",
    "version": 3
   },
   "file_extension": ".py",
   "mimetype": "text/x-python",
   "name": "python",
   "nbconvert_exporter": "python",
   "pygments_lexer": "ipython3",
   "version": "3.12.2"
  }
 },
 "nbformat": 4,
 "nbformat_minor": 5
}
